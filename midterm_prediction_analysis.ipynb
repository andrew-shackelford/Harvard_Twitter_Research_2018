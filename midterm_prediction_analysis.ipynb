{
  "nbformat": 4,
  "nbformat_minor": 0,
  "metadata": {
    "colab": {
      "name": "midterm_prediction_analysis.ipynb",
      "version": "0.3.2",
      "provenance": [],
      "collapsed_sections": [],
      "toc_visible": true,
      "include_colab_link": true
    },
    "kernelspec": {
      "name": "python3",
      "display_name": "Python 3"
    }
  },
  "cells": [
    {
      "cell_type": "markdown",
      "metadata": {
        "id": "view-in-github",
        "colab_type": "text"
      },
      "source": [
        "<a href=\"https://colab.research.google.com/github/andrew-shackelford/Harvard_Twitter_Research_2018/blob/hailey_midterm_prediction_results/midterm_prediction_analysis.ipynb\" target=\"_parent\"><img src=\"https://colab.research.google.com/assets/colab-badge.svg\" alt=\"Open In Colab\"/></a>"
      ]
    },
    {
      "metadata": {
        "id": "3JItxzT44OQF",
        "colab_type": "text"
      },
      "cell_type": "markdown",
      "source": [
        "# **Midterm Prediction Analysis**"
      ]
    },
    {
      "metadata": {
        "id": "sZ6TMkBu60zH",
        "colab_type": "text"
      },
      "cell_type": "markdown",
      "source": [
        "Questions to answer:\n",
        "\n",
        "-What was our overall accuracy?\n",
        "\n",
        "-What was our accuracy within races that went to democrats? Republicans?\n",
        "\n",
        "-What kind of overall turn out did we predict (Democrat landslide vs not)? What actually happened?"
      ]
    },
    {
      "metadata": {
        "id": "5akUfuCt5FvJ",
        "colab_type": "code",
        "colab": {}
      },
      "cell_type": "code",
      "source": [
        "import pandas as pd\n",
        "import numpy as np\n",
        "import matplotlib.pyplot as plt\n"
      ],
      "execution_count": 0,
      "outputs": []
    },
    {
      "metadata": {
        "id": "JvV9tU6z36Lx",
        "colab_type": "code",
        "colab": {}
      },
      "cell_type": "code",
      "source": [
        "prediction_results = pd.read_csv('midterm_predictions_with_results.csv')\n"
      ],
      "execution_count": 0,
      "outputs": []
    },
    {
      "metadata": {
        "id": "fJi2Vypl-RIv",
        "colab_type": "code",
        "colab": {}
      },
      "cell_type": "code",
      "source": [
        "# eliminate races we weren't able to predict\n",
        "prediction_results = prediction_results.loc[prediction_results['winner_predicted_by_total'] != 'not enough info']"
      ],
      "execution_count": 0,
      "outputs": []
    },
    {
      "metadata": {
        "id": "EGV8AoavFCU2",
        "colab_type": "code",
        "colab": {}
      },
      "cell_type": "code",
      "source": [
        "# Add boolean columns to indicate if we predicted correctly for each model\n",
        "\n",
        "new_total_c = prediction_results.apply(lambda row: row['actual_winner'] == row['winner_predicted_by_total'], axis=1)\n",
        "prediction_results = prediction_results.assign(correct_total=new_total_c.values)\n",
        "\n",
        "new_unique_c = prediction_results.apply(lambda row: row['actual_winner'] == row['winner_predicted_by_unique'], axis=1)\n",
        "prediction_results = prediction_results.assign(correct_unique=new_unique_c.values)\n"
      ],
      "execution_count": 0,
      "outputs": []
    },
    {
      "metadata": {
        "id": "EGgNG-gBK7Vm",
        "colab_type": "text"
      },
      "cell_type": "markdown",
      "source": [
        "###What was our overall accuracy for each model?\n"
      ]
    },
    {
      "metadata": {
        "id": "rQm1Mzu8AR_C",
        "colab_type": "code",
        "colab": {
          "base_uri": "https://localhost:8080/",
          "height": 68
        },
        "outputId": "de5905f1-df0d-4271-e0ba-20d8f26e952d"
      },
      "cell_type": "code",
      "source": [
        "correct_total = prediction_results.loc[prediction_results['correct_total']].shape[0]\n",
        "\n",
        "unique_total = prediction_results.loc[prediction_results['correct_unique']].shape[0]\n",
        "\n",
        "correct_total_percentage = correct_total / len(prediction_results)\n",
        "\n",
        "unique_total_percentage = unique_total / len(prediction_results)\n",
        "\n",
        "print(\"Accuracy using total tweets: {} \\nAccuracy using unique posters: {} \\n\".format(correct_total_percentage, unique_total_percentage))\n",
        " "
      ],
      "execution_count": 7,
      "outputs": [
        {
          "output_type": "stream",
          "text": [
            "Accuracy using total tweets: 0.3383458646616541 \n",
            "Accuracy using unique posters: 0.3483709273182957 \n",
            "\n"
          ],
          "name": "stdout"
        }
      ]
    },
    {
      "metadata": {
        "id": "232qJtV3MZCo",
        "colab_type": "text"
      },
      "cell_type": "markdown",
      "source": [
        "### What was our accuracy for each model separated by which party won?"
      ]
    },
    {
      "metadata": {
        "id": "3czk70fBAJ2h",
        "colab_type": "code",
        "colab": {
          "base_uri": "https://localhost:8080/",
          "height": 68
        },
        "outputId": "235449d6-a532-45ee-a3b9-88cc7eed5d72"
      },
      "cell_type": "code",
      "source": [
        "\n",
        "democrats_won = prediction_results.loc[prediction_results['affiliation'] == 'Democratic Party']\n",
        "correct_total_democrats = democrats_won.loc[democrats_won['correct_total'] == True].shape[0]\n",
        "\n",
        "percentage_correct_total_democrats = correct_total_democrats/len(prediction_results)\n",
        "\n",
        "republicans_won = prediction_results.loc[prediction_results['affiliation'] == 'Republican Party']\n",
        "correct_total_republicans = republicans_won.loc[republicans_won['correct_total'] == True].shape[0]\n",
        "percentage_correct_total_republicans = correct_total_republicans/len(prediction_results)\n",
        "\n",
        "print(\"Using total:\\nAccuracy predicting democratic wins: {}\\nAccuracy predicting republican wins: {}\".format(percentage_correct_total_democrats,percentage_correct_total_republicans))"
      ],
      "execution_count": 8,
      "outputs": [
        {
          "output_type": "stream",
          "text": [
            "Using total:\n",
            "Accuracy predicting democratic wins: 0.24060150375939848\n",
            "Accuracy predicting republican wins: 0.09774436090225563\n"
          ],
          "name": "stdout"
        }
      ]
    },
    {
      "metadata": {
        "id": "6s5Bc2crQVdC",
        "colab_type": "code",
        "colab": {
          "base_uri": "https://localhost:8080/",
          "height": 68
        },
        "outputId": "27c5f275-5293-42a9-d59d-fde9cabd1582"
      },
      "cell_type": "code",
      "source": [
        "democrats_won = prediction_results.loc[prediction_results['affiliation'] == 'Democratic Party']\n",
        "correct_unique_democrats = democrats_won.loc[democrats_won['correct_unique'] == True].shape[0]\n",
        "percentage_correct_unique_democrats = correct_unique_democrats/len(prediction_results)\n",
        "\n",
        "republicans_won = prediction_results.loc[prediction_results['affiliation'] == 'Republican Party']\n",
        "correct_unique_republicans = republicans_won.loc[republicans_won['correct_unique'] == True].shape[0]\n",
        "percentage_correct_unique_republicans = correct_unique_republicans/len(prediction_results)\n",
        "\n",
        "print(\"Using total:\\nAccuracy predicting democratic wins: {}\\nAccuracy predicting republican wins: {}\".format(percentage_correct_unique_democrats,percentage_correct_unique_republicans))"
      ],
      "execution_count": 9,
      "outputs": [
        {
          "output_type": "stream",
          "text": [
            "Using total:\n",
            "Accuracy predicting democratic wins: 0.2506265664160401\n",
            "Accuracy predicting republican wins: 0.09774436090225563\n"
          ],
          "name": "stdout"
        }
      ]
    },
    {
      "metadata": {
        "id": "Cjl_kCtY__am",
        "colab_type": "code",
        "colab": {}
      },
      "cell_type": "code",
      "source": [
        "#prediction_results.loc['affiliation'] = prediction_results.loc['affiliation'].map({'democrat': 'Democratic Party', 'republican': 'Republican Party'})"
      ],
      "execution_count": 0,
      "outputs": []
    },
    {
      "metadata": {
        "id": "1Dl6VbpIOGe4",
        "colab_type": "code",
        "colab": {
          "base_uri": "https://localhost:8080/",
          "height": 320
        },
        "outputId": "88591efe-49f2-4d82-fc02-261f0705a01e"
      },
      "cell_type": "code",
      "source": [
        "# plot these respectively \n",
        "\n",
        "accuracies_by_party = []\n",
        "labels = [\"Accuracy using Total\", \"Accuracy using Unique\"]\n",
        "ind = np.arange(len(labels))  # the x locations for the bars\n",
        "width = 0.27       # the width of the bars\n",
        "\n",
        "fig, ax = plt.subplots(figsize=(12,5))\n",
        "# fig = plt.figure()\n",
        "# ax = fig.add_subplot(111)\n",
        "\n",
        "democrat_vals = [percentage_correct_total_democrats,percentage_correct_unique_democrats]\n",
        "rects1 = ax.bar(ind, democrat_vals, width, color='b')\n",
        "republican_vals = [percentage_correct_total_republicans,percentage_correct_unique_republicans]\n",
        "rects2 = ax.bar(ind+width, republican_vals, width, color='r')\n",
        "\n",
        "ax.set_ylabel('Percentage Correct')\n",
        "ax.set_xticks(ind+(width/2))\n",
        "ax.set_xticklabels(labels)\n",
        "ax.legend((rects1[0], rects2[0]), ['Democratic Wins', 'Republican Wins'])\n",
        "          \n",
        "plt.show()"
      ],
      "execution_count": 33,
      "outputs": [
        {
          "output_type": "display_data",
          "data": {
            "image/png": "[encoded data removed]",
            "text/plain": [
              "<matplotlib.figure.Figure at 0x7f65ba5417b8>"
            ]
          },
          "metadata": {
            "tags": []
          }
        }
      ]
    },
    {
      "metadata": {
        "id": "YUB_Y4zhNpGH",
        "colab_type": "text"
      },
      "cell_type": "markdown",
      "source": [
        "###What actually happened vs what did we predict?"
      ]
    },
    {
      "metadata": {
        "id": "RdQtpDLZG3DR",
        "colab_type": "code",
        "colab": {
          "base_uri": "https://localhost:8080/",
          "height": 379
        },
        "outputId": "f1924563-abfd-4f66-d40f-7fb398b6580c"
      },
      "cell_type": "code",
      "source": [
        "#Data from the actual race\n",
        "\n",
        "democrats_won = prediction_results.loc[prediction_results['affiliation'] == 'Democratic Party'].shape[0]\n",
        "republicans_won = prediction_results.loc[prediction_results['affiliation'] == 'Republican Party'].shape[0]\n",
        "results = [democrats_won,republicans_won]\n",
        "xs = np.arange(len(results))\n",
        "labels = ['Democratic Party','Republican Party']\n",
        "plt.xticks(xs, labels)\n",
        "plt.title('Actual winners of house + senate elections')\n",
        "plt.bar(xs, results, align='center', color=['blue', 'red'])"
      ],
      "execution_count": 14,
      "outputs": [
        {
          "output_type": "execute_result",
          "data": {
            "text/plain": [
              "<Container object of 2 artists>"
            ]
          },
          "metadata": {
            "tags": []
          },
          "execution_count": 14
        },
        {
          "output_type": "display_data",
          "data": {
            "image/png": "[encoded data removed]",
            "text/plain": [
              "<matplotlib.figure.Figure at 0x7f65baa6bac8>"
            ]
          },
          "metadata": {
            "tags": []
          }
        }
      ]
    },
    {
      "metadata": {
        "id": "DYL05hh1Nv8y",
        "colab_type": "code",
        "colab": {}
      },
      "cell_type": "code",
      "source": [
        ""
      ],
      "execution_count": 0,
      "outputs": []
    }
  ]
}